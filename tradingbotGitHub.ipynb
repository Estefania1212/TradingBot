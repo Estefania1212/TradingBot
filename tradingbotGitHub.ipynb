{
 "cells": [
  {
   "cell_type": "code",
   "execution_count": 44,
   "metadata": {},
   "outputs": [],
   "source": [
    "import yfinance as yf\n",
    "import pandas as pd "
   ]
  },
  {
   "cell_type": "code",
   "execution_count": 45,
   "metadata": {},
   "outputs": [
    {
     "name": "stdout",
     "output_type": "stream",
     "text": [
      "[*********************100%***********************]  1 of 1 completed\n"
     ]
    }
   ],
   "source": [
    "datafinance = yf.download(\"EURUSD=X\", start=\"2023-08-20\", end=\"2023-09-17\", interval=\"15m\")"
   ]
  },
  {
   "cell_type": "code",
   "execution_count": 46,
   "metadata": {},
   "outputs": [
    {
     "data": {
      "text/plain": [
       "<pandas.core.indexing._iLocIndexer at 0x17ff3dcd8f0>"
      ]
     },
     "execution_count": 46,
     "metadata": {},
     "output_type": "execute_result"
    }
   ],
   "source": [
    "datafinance.Open.iloc"
   ]
  },
  {
   "cell_type": "code",
   "execution_count": 47,
   "metadata": {},
   "outputs": [
    {
     "data": {
      "text/html": [
       "<div>\n",
       "<style scoped>\n",
       "    .dataframe tbody tr th:only-of-type {\n",
       "        vertical-align: middle;\n",
       "    }\n",
       "\n",
       "    .dataframe tbody tr th {\n",
       "        vertical-align: top;\n",
       "    }\n",
       "\n",
       "    .dataframe thead th {\n",
       "        text-align: right;\n",
       "    }\n",
       "</style>\n",
       "<table border=\"1\" class=\"dataframe\">\n",
       "  <thead>\n",
       "    <tr style=\"text-align: right;\">\n",
       "      <th></th>\n",
       "      <th>Open</th>\n",
       "      <th>High</th>\n",
       "      <th>Low</th>\n",
       "      <th>Close</th>\n",
       "      <th>Adj Close</th>\n",
       "      <th>Volume</th>\n",
       "    </tr>\n",
       "    <tr>\n",
       "      <th>Datetime</th>\n",
       "      <th></th>\n",
       "      <th></th>\n",
       "      <th></th>\n",
       "      <th></th>\n",
       "      <th></th>\n",
       "      <th></th>\n",
       "    </tr>\n",
       "  </thead>\n",
       "  <tbody>\n",
       "    <tr>\n",
       "      <th>2023-08-21 00:00:00</th>\n",
       "      <td>1.087666</td>\n",
       "      <td>1.087666</td>\n",
       "      <td>1.087548</td>\n",
       "      <td>1.087548</td>\n",
       "      <td>1.087548</td>\n",
       "      <td>0</td>\n",
       "    </tr>\n",
       "    <tr>\n",
       "      <th>2023-08-21 00:15:00</th>\n",
       "      <td>1.087548</td>\n",
       "      <td>1.087666</td>\n",
       "      <td>1.087429</td>\n",
       "      <td>1.087666</td>\n",
       "      <td>1.087666</td>\n",
       "      <td>0</td>\n",
       "    </tr>\n",
       "    <tr>\n",
       "      <th>2023-08-21 00:30:00</th>\n",
       "      <td>1.087548</td>\n",
       "      <td>1.087666</td>\n",
       "      <td>1.087429</td>\n",
       "      <td>1.087548</td>\n",
       "      <td>1.087548</td>\n",
       "      <td>0</td>\n",
       "    </tr>\n",
       "  </tbody>\n",
       "</table>\n",
       "</div>"
      ],
      "text/plain": [
       "                         Open      High       Low     Close  Adj Close  Volume\n",
       "Datetime                                                                      \n",
       "2023-08-21 00:00:00  1.087666  1.087666  1.087548  1.087548   1.087548       0\n",
       "2023-08-21 00:15:00  1.087548  1.087666  1.087429  1.087666   1.087666       0\n",
       "2023-08-21 00:30:00  1.087548  1.087666  1.087429  1.087548   1.087548       0"
      ]
     },
     "execution_count": 47,
     "metadata": {},
     "output_type": "execute_result"
    }
   ],
   "source": [
    "datafinance.head(3)"
   ]
  },
  {
   "cell_type": "code",
   "execution_count": 48,
   "metadata": {},
   "outputs": [
    {
     "data": {
      "text/html": [
       "<div>\n",
       "<style scoped>\n",
       "    .dataframe tbody tr th:only-of-type {\n",
       "        vertical-align: middle;\n",
       "    }\n",
       "\n",
       "    .dataframe tbody tr th {\n",
       "        vertical-align: top;\n",
       "    }\n",
       "\n",
       "    .dataframe thead th {\n",
       "        text-align: right;\n",
       "    }\n",
       "</style>\n",
       "<table border=\"1\" class=\"dataframe\">\n",
       "  <thead>\n",
       "    <tr style=\"text-align: right;\">\n",
       "      <th></th>\n",
       "      <th>Open</th>\n",
       "      <th>High</th>\n",
       "      <th>Low</th>\n",
       "      <th>Close</th>\n",
       "      <th>Adj Close</th>\n",
       "      <th>Volume</th>\n",
       "    </tr>\n",
       "    <tr>\n",
       "      <th>Datetime</th>\n",
       "      <th></th>\n",
       "      <th></th>\n",
       "      <th></th>\n",
       "      <th></th>\n",
       "      <th></th>\n",
       "      <th></th>\n",
       "    </tr>\n",
       "  </thead>\n",
       "  <tbody>\n",
       "    <tr>\n",
       "      <th>2023-09-15 21:45:00</th>\n",
       "      <td>1.066439</td>\n",
       "      <td>1.066553</td>\n",
       "      <td>1.066325</td>\n",
       "      <td>1.066325</td>\n",
       "      <td>1.066325</td>\n",
       "      <td>0</td>\n",
       "    </tr>\n",
       "    <tr>\n",
       "      <th>2023-09-15 22:00:00</th>\n",
       "      <td>1.066212</td>\n",
       "      <td>1.066212</td>\n",
       "      <td>1.066212</td>\n",
       "      <td>1.066212</td>\n",
       "      <td>1.066212</td>\n",
       "      <td>0</td>\n",
       "    </tr>\n",
       "    <tr>\n",
       "      <th>2023-09-15 22:15:00</th>\n",
       "      <td>1.066212</td>\n",
       "      <td>1.066212</td>\n",
       "      <td>1.066212</td>\n",
       "      <td>1.066212</td>\n",
       "      <td>1.066212</td>\n",
       "      <td>0</td>\n",
       "    </tr>\n",
       "  </tbody>\n",
       "</table>\n",
       "</div>"
      ],
      "text/plain": [
       "                         Open      High       Low     Close  Adj Close  Volume\n",
       "Datetime                                                                      \n",
       "2023-09-15 21:45:00  1.066439  1.066553  1.066325  1.066325   1.066325       0\n",
       "2023-09-15 22:00:00  1.066212  1.066212  1.066212  1.066212   1.066212       0\n",
       "2023-09-15 22:15:00  1.066212  1.066212  1.066212  1.066212   1.066212       0"
      ]
     },
     "execution_count": 48,
     "metadata": {},
     "output_type": "execute_result"
    }
   ],
   "source": [
    "datafinance.tail(3)"
   ]
  },
  {
   "cell_type": "code",
   "execution_count": 49,
   "metadata": {},
   "outputs": [],
   "source": [
    "##Defining signal function\n",
    "def signal_generator(df): \n",
    "    open = df.Open.iloc[-1]\n",
    "    close= df.Close.iloc[-1]\n",
    "    previous_open = df.Open.iloc[-2]\n",
    "    previous_close = df.Close.iloc[-2]\n",
    "\n",
    "\n",
    "    ##Bearish Pattern (selling signal)\n",
    "    if (open>close and\n",
    "        previous_open<previous_close and \n",
    "        close<previous_open and  \n",
    "        open>=previous_close):\n",
    "        return 1 \n",
    "    \n",
    "\n",
    "    ##Bullish Pattern (buying signal)\n",
    "    elif (open<close and \n",
    "          previous_open>previous_close and \n",
    "          close>previous_open and\n",
    "          open<+previous_close):\n",
    "        return 2\n",
    "    ##No clear pattern \n",
    "    else: \n",
    "        return 0"
   ]
  },
  {
   "cell_type": "code",
   "execution_count": 50,
   "metadata": {},
   "outputs": [],
   "source": [
    "signal = []\n",
    "signal.append(0)\n",
    "for i in range(1,len(datafinance)):\n",
    "    df =datafinance[i-1:i+1]\n",
    "    signal.append(signal_generator(df))\n",
    "datafinance[\"signal\"] = signal"
   ]
  },
  {
   "cell_type": "code",
   "execution_count": 51,
   "metadata": {},
   "outputs": [
    {
     "data": {
      "text/plain": [
       "0    1814\n",
       "1      68\n",
       "2      14\n",
       "Name: signal, dtype: int64"
      ]
     },
     "execution_count": 51,
     "metadata": {},
     "output_type": "execute_result"
    }
   ],
   "source": [
    "datafinance.signal.value_counts()"
   ]
  },
  {
   "cell_type": "code",
   "execution_count": 52,
   "metadata": {},
   "outputs": [],
   "source": [
    "from apscheduler.schedulers.blocking import BlockingScheduler"
   ]
  },
  {
   "cell_type": "code",
   "execution_count": 53,
   "metadata": {},
   "outputs": [],
   "source": [
    "from oandapyV20 import API\n",
    "import oandapyV20.endpoints.orders as orders \n",
    "from oandapyV20.contrib.requests import MarketOrderRequest\n",
    "from oanda_candles import Pair, Gran, CandleCollector, CandleClient\n",
    "from oandapyV20.contrib.requests import TakeProfitDetails, StopLossDetails"
   ]
  },
  {
   "cell_type": "code",
   "execution_count": 40,
   "metadata": {},
   "outputs": [],
   "source": [
    "from oandapyV20 import API\n",
    "import oandapyV20.endpoints.trades as trades\n",
    "import json\n",
    "access_token= \"f3e0d684xxxxxxxxxxxxxxx\"\n",
    "account_ID= \"xxxxxxxxxxxxxx\"\n",
    "client = API(access_token=access_token,environment=\"live\" or \"practice\")\n",
    "\n"
   ]
  },
  {
   "cell_type": "code",
   "execution_count": 54,
   "metadata": {},
   "outputs": [
    {
     "name": "stdout",
     "output_type": "stream",
     "text": [
      "True\n",
      "True\n",
      "True\n"
     ]
    }
   ],
   "source": [
    "from oandapyV20 import API\n",
    "import oandapyV20.endpoints.trades as trades\n",
    "import json\n",
    "access_token= \"f3e0d68xxxxxxxxxxxxxxxx\"\n",
    "account_ID= \"xxxxxxxxxxxxx\"\n",
    "def get_candles(n):\n",
    "    access_token =\"f3xxxxxxxxxxxxxxxxxxxxxxxxxxx\"\n",
    "    client= CandleClient(access_token,real=False)\n",
    "    collector = client.get_collector(Pair.EUR_USD, Gran.M15)\n",
    "    candles = collector.grab(n)\n",
    "    return candles\n",
    "\n",
    "\n",
    "candles= get_candles(3)\n",
    "for candle in candles: \n",
    "    print(float(str(candle.bid.o))>1)"
   ]
  },
  {
   "cell_type": "code",
   "execution_count": 55,
   "metadata": {},
   "outputs": [],
   "source": [
    "def trading_job():\n",
    "    candles= get_candles(3)\n",
    "    dfstream= pd.DataFrame(columns=[\"Open\", \"Close\", \"High\", \"Low\"])\n",
    "\n",
    "    i=0\n",
    "    for candle in candles: \n",
    "        dfstream.loc[i, [\"Open\"]]=float(str(candle.bid.o))\n",
    "        dfstream.loc[i, [\"Close\"]]=float(str(candle.bid.c))\n",
    "        dfstream.loc[i, [\"High\"]]=float(str(candle.bid.h))\n",
    "        dfstream.loc[i, [\"Low\"]]=float(str(candle.bid.l))\n",
    "        i=i+1\n",
    "\n",
    "\n",
    "    dfstream[\"Open\"] = dfstream[\"Open\"].astype(float)\n",
    "    dfstream[\"Close\"] = dfstream[\"Close\"].astype(float)\n",
    "    dfstream[\"High\"] = dfstream[\"High\"].astype(float)\n",
    "    dfstream[\"Low\"] = dfstream[\"Low\"].astype(float)\n",
    "\n",
    "    signal= signal_generator(dfstream.iloc[:-1,:])\n",
    "\n",
    "\n",
    "    ####EXECUTING ORDERS\n",
    "\n",
    "    client=API(access_token)\n",
    "\n",
    "    SLTPRatio = 2.\n",
    "    previous_candleR = abs(dfstream[\"High\"].iloc[-2]-dfstream[\"Low\"].iloc[-2])\n",
    "\n",
    "    SLBuy = float(str(candle.bid.o)) - previous_candleR\n",
    "    SLSell = float(str(candle.bid.o))+previous_candleR\n",
    "\n",
    "    TPBuy = float(str(candle.bid.o))+previous_candleR*SLTPRatio\n",
    "    TPSell = float(str(candle.bid.o))-previous_candleR*SLTPRatio\n",
    "\n",
    "    print(dfstream.iloc[:-1,:])\n",
    "    print(TPBuy, \" \", SLBuy, \" \", TPSell, \" \", SLSell)\n",
    "\n",
    "    signal = 2\n",
    "\n",
    "    ###SELL\n",
    "\n",
    "    if signal == 1: \n",
    "        mo = MarketOrderRequest(instrument=\"EUR_USD\", units =-1000, takeProfitOnFill=TakeProfitDetails(price=TPSell).data,stopLossOnFill=StopLossDetails(price=SLSell).data)\n",
    "        r= orders.OrderCreate(accountID=\"xxxxxxxxxxxx\", data=mo.data)\n",
    "        rv=client.request(r)\n",
    "        print(rv)\n",
    "\n",
    "\n",
    "    ###Buy\n",
    "    elif signal ==2:\n",
    "        mo = MarketOrderRequest(instrument=\"EUR_USD\", units =1000, takeProfitOnFill=TakeProfitDetails(price=TPSell).data,stopLossOnFill=StopLossDetails(price=SLSell).data)\n",
    "        r = orders.OrderCreate(accountID=\"xxxxxxxxxxxxx\", data=mo.data)\n",
    "        rv = client.request(r)\n",
    "        print(rv)\n",
    "\n",
    "        \n",
    "        "
   ]
  },
  {
   "cell_type": "code",
   "execution_count": null,
   "metadata": {},
   "outputs": [],
   "source": [
    "##EXECUTION\n",
    "trading_job()\n"
   ]
  }
 ],
 "metadata": {
  "kernelspec": {
   "display_name": "Python 3",
   "language": "python",
   "name": "python3"
  },
  "language_info": {
   "codemirror_mode": {
    "name": "ipython",
    "version": 3
   },
   "file_extension": ".py",
   "mimetype": "text/x-python",
   "name": "python",
   "nbconvert_exporter": "python",
   "pygments_lexer": "ipython3",
   "version": "3.10.8"
  },
  "orig_nbformat": 4
 },
 "nbformat": 4,
 "nbformat_minor": 2
}
